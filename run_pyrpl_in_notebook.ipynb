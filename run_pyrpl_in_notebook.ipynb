{
 "cells": [
  {
   "cell_type": "markdown",
   "metadata": {},
   "source": [
    "# Example notebook on how to run Pyrpl for python version above 3.9"
   ]
  },
  {
   "cell_type": "markdown",
   "metadata": {},
   "source": [
    "## basic import"
   ]
  },
  {
   "cell_type": "code",
   "execution_count": 1,
   "metadata": {},
   "outputs": [
    {
     "name": "stdout",
     "output_type": "stream",
     "text": [
      "Jupyter notebook or qtconsole\n"
     ]
    },
    {
     "name": "stderr",
     "output_type": "stream",
     "text": [
      "C:\\Users\\MichaelCroquette\\anaconda3\\envs\\py312\\Lib\\site-packages\\paramiko\\transport.py:219: CryptographyDeprecationWarning: Blowfish has been deprecated and will be removed in a future release\n",
      "  \"class\": algorithms.Blowfish,\n"
     ]
    }
   ],
   "source": [
    "import sys\n",
    "sys.path.append('C:/Users/michael.croquette/Documents/github/pyrpl') # replace with your pyrpl path\n",
    "import pyrpl"
   ]
  },
  {
   "cell_type": "markdown",
   "metadata": {},
   "source": [
    "## run pyrpl normally, at this point the scope should be unresponsive because all async task are not sent to the event loop "
   ]
  },
  {
   "cell_type": "code",
   "execution_count": 2,
   "metadata": {},
   "outputs": [
    {
     "name": "stderr",
     "output_type": "stream",
     "text": [
      "INFO:pyrpl:All your PyRPL settings will be saved to the config file\n",
      "    C:\\Users\\MichaelCroquette\\pyrpl_user_dir\\config\\test.yml\n",
      "If you would like to restart PyRPL with these settings, type \"pyrpl.exe test\" in a windows terminal or \n",
      "    from pyrpl import Pyrpl\n",
      "    p = Pyrpl('test')\n",
      "in a python terminal.\n",
      "WARNING:pyrpl.redpitaya:Simulating RedPitaya because (hostname==_FAKE_). Incomplete functionality possible. \n",
      "WARNING:pyrpl.modules:Register decimation of module scope has value 1, which does not correspond to selected option 8192. Setting to '8192'. \n",
      "C:\\Users\\MichaelCroquette\\Documents\\GitHub\\pyrpl\\pyrpl\\software_modules\\lockbox\\models\\fabryperot.py:115: RuntimeWarning: invalid value encountered in divide\n",
      "  return(pdh(x)/pdh(x_max))\n",
      "C:\\Users\\MichaelCroquette\\Documents\\GitHub\\pyrpl\\pyrpl\\software_modules\\lockbox\\models\\fabryperot.py:115: RuntimeWarning: invalid value encountered in scalar divide\n",
      "  return(pdh(x)/pdh(x_max))\n"
     ]
    },
    {
     "ename": "AttributeError",
     "evalue": "module 'numpy' has no attribute 'complex'.\n`np.complex` was a deprecated alias for the builtin `complex`. To avoid this error in existing code, use `complex` by itself. Doing this will not modify any behavior and is safe. If you specifically wanted the numpy scalar type, use `np.complex128` here.\nThe aliases was originally deprecated in NumPy 1.20; for more details and guidance see the original release note at:\n    https://numpy.org/devdocs/release/1.20.0-notes.html#deprecations",
     "output_type": "error",
     "traceback": [
      "\u001b[1;31m---------------------------------------------------------------------------\u001b[0m",
      "\u001b[1;31mAttributeError\u001b[0m                            Traceback (most recent call last)",
      "File \u001b[1;32m~\\Documents\\GitHub\\pyrpl\\pyrpl\\widgets\\pyrpl_widget.py:96\u001b[0m, in \u001b[0;36mMyDockWidget.showEvent\u001b[1;34m(self, event)\u001b[0m\n\u001b[0;32m     94\u001b[0m \u001b[38;5;28;01mdef\u001b[39;00m \u001b[38;5;21mshowEvent\u001b[39m(\u001b[38;5;28mself\u001b[39m, event):\n\u001b[0;32m     95\u001b[0m     \u001b[38;5;28;01mif\u001b[39;00m \u001b[38;5;28mself\u001b[39m\u001b[38;5;241m.\u001b[39mwidget \u001b[38;5;129;01mis\u001b[39;00m \u001b[38;5;28;01mNone\u001b[39;00m:\n\u001b[1;32m---> 96\u001b[0m         \u001b[38;5;28mself\u001b[39m\u001b[38;5;241m.\u001b[39mwidget \u001b[38;5;241m=\u001b[39m \u001b[38;5;28mself\u001b[39m\u001b[38;5;241m.\u001b[39mcreate_widget_func()\n\u001b[0;32m     97\u001b[0m         \u001b[38;5;28;01mif\u001b[39;00m \u001b[38;5;28mself\u001b[39m\u001b[38;5;241m.\u001b[39mscrollable:\n\u001b[0;32m     98\u001b[0m             \u001b[38;5;28mself\u001b[39m\u001b[38;5;241m.\u001b[39mscrollarea \u001b[38;5;241m=\u001b[39m QtWidgets\u001b[38;5;241m.\u001b[39mQScrollArea()\n",
      "File \u001b[1;32m~\\Documents\\GitHub\\pyrpl\\pyrpl\\modules.py:655\u001b[0m, in \u001b[0;36mModule._create_widget\u001b[1;34m(self)\u001b[0m\n\u001b[0;32m    653\u001b[0m     \u001b[38;5;28;01mreturn\u001b[39;00m \u001b[38;5;28;01mNone\u001b[39;00m\n\u001b[0;32m    654\u001b[0m \u001b[38;5;28;01mtry\u001b[39;00m:\n\u001b[1;32m--> 655\u001b[0m     widget \u001b[38;5;241m=\u001b[39m \u001b[38;5;28mself\u001b[39m\u001b[38;5;241m.\u001b[39m_widget_class(\u001b[38;5;28mself\u001b[39m\u001b[38;5;241m.\u001b[39mname, \u001b[38;5;28mself\u001b[39m)\n\u001b[0;32m    656\u001b[0m \u001b[38;5;28;01mfinally\u001b[39;00m:\n\u001b[0;32m    657\u001b[0m     \u001b[38;5;28;01mpass\u001b[39;00m\n",
      "File \u001b[1;32m~\\Documents\\GitHub\\pyrpl\\pyrpl\\widgets\\module_widgets\\base_module_widget.py:179\u001b[0m, in \u001b[0;36mReducedModuleWidget.__init__\u001b[1;34m(self, name, module, parent)\u001b[0m\n\u001b[0;32m    177\u001b[0m \u001b[38;5;28mself\u001b[39m\u001b[38;5;241m.\u001b[39mattribute_widgets \u001b[38;5;241m=\u001b[39m OrderedDict()\n\u001b[0;32m    178\u001b[0m \u001b[38;5;28mself\u001b[39m\u001b[38;5;241m.\u001b[39myml_editors \u001b[38;5;241m=\u001b[39m \u001b[38;5;28mdict\u001b[39m()  \u001b[38;5;66;03m# optional widgets to edit the yml code of module on a per-state basis\u001b[39;00m\n\u001b[1;32m--> 179\u001b[0m \u001b[38;5;28mself\u001b[39m\u001b[38;5;241m.\u001b[39minit_gui() \u001b[38;5;66;03m# performs the automatic gui creation based on register_names\u001b[39;00m\n\u001b[0;32m    180\u001b[0m \u001b[38;5;66;03m# self.setStyleSheet(\"ModuleWidget{border:0;color: transparent;}\") # frames and title hidden for software_modules\u001b[39;00m\n\u001b[0;32m    181\u001b[0m                                 \u001b[38;5;66;03m# ModuleManagerWidget sets them visible for the HardwareModuleWidgets...\u001b[39;00m\n\u001b[0;32m    182\u001b[0m \u001b[38;5;28mself\u001b[39m\u001b[38;5;241m.\u001b[39mcreate_title_bar()\n",
      "File \u001b[1;32m~\\Documents\\GitHub\\pyrpl\\pyrpl\\widgets\\module_widgets\\lockbox_widget.py:915\u001b[0m, in \u001b[0;36mLockboxWidget.init_gui\u001b[1;34m(self)\u001b[0m\n\u001b[0;32m    907\u001b[0m \u001b[38;5;28mself\u001b[39m\u001b[38;5;241m.\u001b[39mmain_layout\u001b[38;5;241m.\u001b[39maddWidget(\u001b[38;5;28mself\u001b[39m\u001b[38;5;241m.\u001b[39mscrollarea)\n\u001b[0;32m    908\u001b[0m \u001b[38;5;66;03m# hide button for sequence\u001b[39;00m\n\u001b[0;32m    909\u001b[0m \u001b[38;5;66;03m# self.button_hide1 = QtWidgets.QPushButton(\"^ Lock sequence ^\")\u001b[39;00m\n\u001b[0;32m    910\u001b[0m \u001b[38;5;66;03m# self.button_hide1.setMaximumHeight(15)\u001b[39;00m\n\u001b[1;32m   (...)\u001b[0m\n\u001b[0;32m    913\u001b[0m \n\u001b[0;32m    914\u001b[0m \u001b[38;5;66;03m# inputs/ outputs widget\u001b[39;00m\n\u001b[1;32m--> 915\u001b[0m \u001b[38;5;28mself\u001b[39m\u001b[38;5;241m.\u001b[39mall_sig_widget \u001b[38;5;241m=\u001b[39m AllSignalsWidget(\u001b[38;5;28mself\u001b[39m)\n\u001b[0;32m    916\u001b[0m \u001b[38;5;28mself\u001b[39m\u001b[38;5;241m.\u001b[39mbutton_hide2 \u001b[38;5;241m=\u001b[39m QtWidgets\u001b[38;5;241m.\u001b[39mQPushButton(\u001b[38;5;124m\"\u001b[39m\u001b[38;5;124mhide inputs / outputs\u001b[39m\u001b[38;5;124m\"\u001b[39m)\n\u001b[0;32m    917\u001b[0m \u001b[38;5;66;03m#self.button_hide_clicked() # open by default\u001b[39;00m\n",
      "File \u001b[1;32m~\\Documents\\GitHub\\pyrpl\\pyrpl\\widgets\\module_widgets\\lockbox_widget.py:595\u001b[0m, in \u001b[0;36mAllSignalsWidget.__init__\u001b[1;34m(self, lockbox_widget)\u001b[0m\n\u001b[0;32m    593\u001b[0m     button\u001b[38;5;241m.\u001b[39mresize(\u001b[38;5;241m0\u001b[39m, \u001b[38;5;241m0\u001b[39m)  \u001b[38;5;66;03m# hide \"close\" for \"+\" tab\u001b[39;00m\n\u001b[0;32m    594\u001b[0m \u001b[38;5;28;01mfor\u001b[39;00m signal \u001b[38;5;129;01min\u001b[39;00m \u001b[38;5;28mself\u001b[39m\u001b[38;5;241m.\u001b[39mlb_widget\u001b[38;5;241m.\u001b[39mmodule\u001b[38;5;241m.\u001b[39moutputs:\n\u001b[1;32m--> 595\u001b[0m     \u001b[38;5;28mself\u001b[39m\u001b[38;5;241m.\u001b[39madd_output(signal)\n\u001b[0;32m    596\u001b[0m \u001b[38;5;28mself\u001b[39m\u001b[38;5;241m.\u001b[39mcurrentChanged\u001b[38;5;241m.\u001b[39mconnect(\u001b[38;5;28mself\u001b[39m\u001b[38;5;241m.\u001b[39mtab_changed)\n\u001b[0;32m    597\u001b[0m \u001b[38;5;28mself\u001b[39m\u001b[38;5;241m.\u001b[39mtabCloseRequested\u001b[38;5;241m.\u001b[39mconnect(\u001b[38;5;28mself\u001b[39m\u001b[38;5;241m.\u001b[39mclose_tab)\n",
      "File \u001b[1;32m~\\Documents\\GitHub\\pyrpl\\pyrpl\\widgets\\module_widgets\\lockbox_widget.py:620\u001b[0m, in \u001b[0;36mAllSignalsWidget.add_output\u001b[1;34m(self, signal)\u001b[0m\n\u001b[0;32m    616\u001b[0m \u001b[38;5;28;01mdef\u001b[39;00m \u001b[38;5;21madd_output\u001b[39m(\u001b[38;5;28mself\u001b[39m, signal):\n\u001b[0;32m    617\u001b[0m \u001b[38;5;250m    \u001b[39m\u001b[38;5;124;03m\"\"\"\u001b[39;00m\n\u001b[0;32m    618\u001b[0m \u001b[38;5;124;03m    signal is an instance of OutputSignal\u001b[39;00m\n\u001b[0;32m    619\u001b[0m \u001b[38;5;124;03m    \"\"\"\u001b[39;00m\n\u001b[1;32m--> 620\u001b[0m     widget \u001b[38;5;241m=\u001b[39m signal\u001b[38;5;241m.\u001b[39m_create_widget()\n\u001b[0;32m    621\u001b[0m     \u001b[38;5;28mself\u001b[39m\u001b[38;5;241m.\u001b[39moutput_widgets\u001b[38;5;241m.\u001b[39mappend(widget)\n\u001b[0;32m    622\u001b[0m     \u001b[38;5;28mself\u001b[39m\u001b[38;5;241m.\u001b[39minsertTab(\u001b[38;5;28mself\u001b[39m\u001b[38;5;241m.\u001b[39mcount() \u001b[38;5;241m-\u001b[39m \u001b[38;5;241m1\u001b[39m, widget, widget\u001b[38;5;241m.\u001b[39mname)\n",
      "File \u001b[1;32m~\\Documents\\GitHub\\pyrpl\\pyrpl\\modules.py:655\u001b[0m, in \u001b[0;36mModule._create_widget\u001b[1;34m(self)\u001b[0m\n\u001b[0;32m    653\u001b[0m     \u001b[38;5;28;01mreturn\u001b[39;00m \u001b[38;5;28;01mNone\u001b[39;00m\n\u001b[0;32m    654\u001b[0m \u001b[38;5;28;01mtry\u001b[39;00m:\n\u001b[1;32m--> 655\u001b[0m     widget \u001b[38;5;241m=\u001b[39m \u001b[38;5;28mself\u001b[39m\u001b[38;5;241m.\u001b[39m_widget_class(\u001b[38;5;28mself\u001b[39m\u001b[38;5;241m.\u001b[39mname, \u001b[38;5;28mself\u001b[39m)\n\u001b[0;32m    656\u001b[0m \u001b[38;5;28;01mfinally\u001b[39;00m:\n\u001b[0;32m    657\u001b[0m     \u001b[38;5;28;01mpass\u001b[39;00m\n",
      "File \u001b[1;32m~\\Documents\\GitHub\\pyrpl\\pyrpl\\widgets\\module_widgets\\base_module_widget.py:179\u001b[0m, in \u001b[0;36mReducedModuleWidget.__init__\u001b[1;34m(self, name, module, parent)\u001b[0m\n\u001b[0;32m    177\u001b[0m \u001b[38;5;28mself\u001b[39m\u001b[38;5;241m.\u001b[39mattribute_widgets \u001b[38;5;241m=\u001b[39m OrderedDict()\n\u001b[0;32m    178\u001b[0m \u001b[38;5;28mself\u001b[39m\u001b[38;5;241m.\u001b[39myml_editors \u001b[38;5;241m=\u001b[39m \u001b[38;5;28mdict\u001b[39m()  \u001b[38;5;66;03m# optional widgets to edit the yml code of module on a per-state basis\u001b[39;00m\n\u001b[1;32m--> 179\u001b[0m \u001b[38;5;28mself\u001b[39m\u001b[38;5;241m.\u001b[39minit_gui() \u001b[38;5;66;03m# performs the automatic gui creation based on register_names\u001b[39;00m\n\u001b[0;32m    180\u001b[0m \u001b[38;5;66;03m# self.setStyleSheet(\"ModuleWidget{border:0;color: transparent;}\") # frames and title hidden for software_modules\u001b[39;00m\n\u001b[0;32m    181\u001b[0m                                 \u001b[38;5;66;03m# ModuleManagerWidget sets them visible for the HardwareModuleWidgets...\u001b[39;00m\n\u001b[0;32m    182\u001b[0m \u001b[38;5;28mself\u001b[39m\u001b[38;5;241m.\u001b[39mcreate_title_bar()\n",
      "File \u001b[1;32m~\\Documents\\GitHub\\pyrpl\\pyrpl\\widgets\\module_widgets\\lockbox_widget.py:461\u001b[0m, in \u001b[0;36mOutputSignalWidget.init_gui\u001b[1;34m(self)\u001b[0m\n\u001b[0;32m    459\u001b[0m \u001b[38;5;28mself\u001b[39m\u001b[38;5;241m.\u001b[39mplotbox\u001b[38;5;241m.\u001b[39mlayout\u001b[38;5;241m.\u001b[39maddWidget(\u001b[38;5;28mself\u001b[39m\u001b[38;5;241m.\u001b[39mwin_phase)\n\u001b[0;32m    460\u001b[0m \u001b[38;5;28mself\u001b[39m\u001b[38;5;241m.\u001b[39mmain_layout\u001b[38;5;241m.\u001b[39maddWidget(\u001b[38;5;28mself\u001b[39m\u001b[38;5;241m.\u001b[39mplotbox)\n\u001b[1;32m--> 461\u001b[0m \u001b[38;5;28mself\u001b[39m\u001b[38;5;241m.\u001b[39mupdate_transfer_function()\n",
      "File \u001b[1;32m~\\Documents\\GitHub\\pyrpl\\pyrpl\\widgets\\module_widgets\\lockbox_widget.py:468\u001b[0m, in \u001b[0;36mOutputSignalWidget.update_transfer_function\u001b[1;34m(self)\u001b[0m\n\u001b[0;32m    464\u001b[0m \u001b[38;5;250m\u001b[39m\u001b[38;5;124;03m\"\"\"\u001b[39;00m\n\u001b[0;32m    465\u001b[0m \u001b[38;5;124;03mUpdates the transfer function curve of the output.\u001b[39;00m\n\u001b[0;32m    466\u001b[0m \u001b[38;5;124;03m\"\"\"\u001b[39;00m\n\u001b[0;32m    467\u001b[0m freqs \u001b[38;5;241m=\u001b[39m \u001b[38;5;28mself\u001b[39m\u001b[38;5;241m.\u001b[39mmodule\u001b[38;5;241m.\u001b[39mtf_freqs()\n\u001b[1;32m--> 468\u001b[0m curve \u001b[38;5;241m=\u001b[39m \u001b[38;5;28mself\u001b[39m\u001b[38;5;241m.\u001b[39mmodule\u001b[38;5;241m.\u001b[39mtransfer_function(freqs)\n\u001b[0;32m    469\u001b[0m abs_curve \u001b[38;5;241m=\u001b[39m \u001b[38;5;28mabs\u001b[39m(curve)\n\u001b[0;32m    470\u001b[0m \u001b[38;5;28;01mif\u001b[39;00m(\u001b[38;5;28mmax\u001b[39m(abs_curve)\u001b[38;5;241m>\u001b[39m\u001b[38;5;241m0\u001b[39m): \u001b[38;5;66;03m# python 2 crashes when plotting zeros in log_mode\u001b[39;00m\n",
      "File \u001b[1;32m~\\Documents\\GitHub\\pyrpl\\pyrpl\\software_modules\\lockbox\\output.py:342\u001b[0m, in \u001b[0;36mOutputSignal.transfer_function\u001b[1;34m(self, freqs)\u001b[0m\n\u001b[0;32m    339\u001b[0m analog_tf \u001b[38;5;241m=\u001b[39m np\u001b[38;5;241m.\u001b[39mones(\u001b[38;5;28mlen\u001b[39m(freqs), dtype\u001b[38;5;241m=\u001b[39m\u001b[38;5;28mcomplex\u001b[39m)\n\u001b[0;32m    340\u001b[0m \u001b[38;5;28;01mif\u001b[39;00m \u001b[38;5;28mself\u001b[39m\u001b[38;5;241m.\u001b[39mtf_type \u001b[38;5;241m==\u001b[39m \u001b[38;5;124m'\u001b[39m\u001b[38;5;124mfilter\u001b[39m\u001b[38;5;124m'\u001b[39m:\n\u001b[0;32m    341\u001b[0m     \u001b[38;5;66;03m# use logic implemented in PID to simulate analog filters\u001b[39;00m\n\u001b[1;32m--> 342\u001b[0m     analog_tf \u001b[38;5;241m=\u001b[39m Pid\u001b[38;5;241m.\u001b[39m_filter_transfer_function(freqs, \u001b[38;5;28mself\u001b[39m\u001b[38;5;241m.\u001b[39manalog_filter_cutoff)\n\u001b[0;32m    343\u001b[0m \u001b[38;5;28;01mif\u001b[39;00m \u001b[38;5;28mself\u001b[39m\u001b[38;5;241m.\u001b[39mtf_type \u001b[38;5;241m==\u001b[39m \u001b[38;5;124m'\u001b[39m\u001b[38;5;124mcurve\u001b[39m\u001b[38;5;124m'\u001b[39m:\n\u001b[0;32m    344\u001b[0m     curve \u001b[38;5;241m=\u001b[39m CurveDB\u001b[38;5;241m.\u001b[39mget(\u001b[38;5;28mself\u001b[39m\u001b[38;5;241m.\u001b[39mtf_curve)\n",
      "File \u001b[1;32m~\\Documents\\GitHub\\pyrpl\\pyrpl\\hardware_modules\\pid.py:471\u001b[0m, in \u001b[0;36mPid._filter_transfer_function\u001b[1;34m(cls, frequencies, filter_values, frequency_correction)\u001b[0m\n\u001b[0;32m    464\u001b[0m \u001b[38;5;129m@classmethod\u001b[39m\n\u001b[0;32m    465\u001b[0m \u001b[38;5;28;01mdef\u001b[39;00m \u001b[38;5;21m_filter_transfer_function\u001b[39m(\u001b[38;5;28mcls\u001b[39m,\n\u001b[0;32m    466\u001b[0m                               frequencies, filter_values,\n\u001b[0;32m    467\u001b[0m                               frequency_correction\u001b[38;5;241m=\u001b[39m\u001b[38;5;241m1.\u001b[39m):\n\u001b[0;32m    468\u001b[0m \u001b[38;5;250m    \u001b[39m\u001b[38;5;124;03m\"\"\"\u001b[39;00m\n\u001b[0;32m    469\u001b[0m \u001b[38;5;124;03m    Transfer function of the inputfilter part of a pid module\u001b[39;00m\n\u001b[0;32m    470\u001b[0m \u001b[38;5;124;03m    \"\"\"\u001b[39;00m\n\u001b[1;32m--> 471\u001b[0m     frequencies \u001b[38;5;241m=\u001b[39m np\u001b[38;5;241m.\u001b[39marray(frequencies, dtype\u001b[38;5;241m=\u001b[39mnp\u001b[38;5;241m.\u001b[39mcomplex)\n\u001b[0;32m    472\u001b[0m     module_delay \u001b[38;5;241m=\u001b[39m \u001b[38;5;241m0\u001b[39m\n\u001b[0;32m    473\u001b[0m     tf \u001b[38;5;241m=\u001b[39m np\u001b[38;5;241m.\u001b[39mones(\u001b[38;5;28mlen\u001b[39m(frequencies), dtype\u001b[38;5;241m=\u001b[39m\u001b[38;5;28mcomplex\u001b[39m)\n",
      "File \u001b[1;32m~\\anaconda3\\envs\\py312\\Lib\\site-packages\\numpy\\__init__.py:324\u001b[0m, in \u001b[0;36m__getattr__\u001b[1;34m(attr)\u001b[0m\n\u001b[0;32m    319\u001b[0m     warnings\u001b[38;5;241m.\u001b[39mwarn(\n\u001b[0;32m    320\u001b[0m         \u001b[38;5;124mf\u001b[39m\u001b[38;5;124m\"\u001b[39m\u001b[38;5;124mIn the future `np.\u001b[39m\u001b[38;5;132;01m{\u001b[39;00mattr\u001b[38;5;132;01m}\u001b[39;00m\u001b[38;5;124m` will be defined as the \u001b[39m\u001b[38;5;124m\"\u001b[39m\n\u001b[0;32m    321\u001b[0m         \u001b[38;5;124m\"\u001b[39m\u001b[38;5;124mcorresponding NumPy scalar.\u001b[39m\u001b[38;5;124m\"\u001b[39m, \u001b[38;5;167;01mFutureWarning\u001b[39;00m, stacklevel\u001b[38;5;241m=\u001b[39m\u001b[38;5;241m2\u001b[39m)\n\u001b[0;32m    323\u001b[0m \u001b[38;5;28;01mif\u001b[39;00m attr \u001b[38;5;129;01min\u001b[39;00m __former_attrs__:\n\u001b[1;32m--> 324\u001b[0m     \u001b[38;5;28;01mraise\u001b[39;00m \u001b[38;5;167;01mAttributeError\u001b[39;00m(__former_attrs__[attr])\n\u001b[0;32m    326\u001b[0m \u001b[38;5;28;01mif\u001b[39;00m attr \u001b[38;5;241m==\u001b[39m \u001b[38;5;124m'\u001b[39m\u001b[38;5;124mtesting\u001b[39m\u001b[38;5;124m'\u001b[39m:\n\u001b[0;32m    327\u001b[0m     \u001b[38;5;28;01mimport\u001b[39;00m \u001b[38;5;21;01mnumpy\u001b[39;00m\u001b[38;5;21;01m.\u001b[39;00m\u001b[38;5;21;01mtesting\u001b[39;00m \u001b[38;5;28;01mas\u001b[39;00m \u001b[38;5;21;01mtesting\u001b[39;00m\n",
      "\u001b[1;31mAttributeError\u001b[0m: module 'numpy' has no attribute 'complex'.\n`np.complex` was a deprecated alias for the builtin `complex`. To avoid this error in existing code, use `complex` by itself. Doing this will not modify any behavior and is safe. If you specifically wanted the numpy scalar type, use `np.complex128` here.\nThe aliases was originally deprecated in NumPy 1.20; for more details and guidance see the original release note at:\n    https://numpy.org/devdocs/release/1.20.0-notes.html#deprecations"
     ]
    }
   ],
   "source": [
    "p = pyrpl.Pyrpl(hostname='_FAKE_', config='test')"
   ]
  },
  {
   "cell_type": "markdown",
   "metadata": {},
   "source": [
    "## Ugly workaround using nest_asyncio to set the event loop properly, now the scope and all async features should work fine"
   ]
  },
  {
   "cell_type": "code",
   "execution_count": null,
   "metadata": {},
   "outputs": [],
   "source": [
    "from pyrpl.async_utils import LOOP\n",
    "import asyncio\n",
    "import nest_asyncio\n",
    "nest_asyncio.apply(LOOP)\n",
    "asyncio.events._set_running_loop(LOOP)"
   ]
  },
  {
   "cell_type": "code",
   "execution_count": null,
   "metadata": {},
   "outputs": [],
   "source": [
    "asyncio.set_event_loop(LOOP)"
   ]
  },
  {
   "cell_type": "markdown",
   "metadata": {},
   "source": [
    "## in case nest_asyncio is not installed"
   ]
  },
  {
   "cell_type": "code",
   "execution_count": 2,
   "metadata": {},
   "outputs": [
    {
     "name": "stdout",
     "output_type": "stream",
     "text": [
      "Requirement already satisfied: nest_asyncio in c:\\users\\michaelcroquette\\anaconda3\\envs\\py312\\lib\\site-packages (1.6.0)\n",
      "Note: you may need to restart the kernel to use updated packages.\n"
     ]
    }
   ],
   "source": [
    "%pip install nest_asyncio"
   ]
  }
 ],
 "metadata": {
  "kernelspec": {
   "display_name": "Python 3 (ipykernel)",
   "language": "python",
   "name": "python3"
  },
  "language_info": {
   "codemirror_mode": {
    "name": "ipython",
    "version": 3
   },
   "file_extension": ".py",
   "mimetype": "text/x-python",
   "name": "python",
   "nbconvert_exporter": "python",
   "pygments_lexer": "ipython3",
   "version": "3.12.4"
  }
 },
 "nbformat": 4,
 "nbformat_minor": 4
}
