{
 "cells": [
  {
   "metadata": {
    "ExecuteTime": {
     "end_time": "2025-03-24T10:36:14.975059Z",
     "start_time": "2025-03-24T10:36:08.712697Z"
    }
   },
   "cell_type": "code",
   "source": [
    "import logging\n",
    "import io\n",
    "\n",
    "import pyrpl\n",
    "\n",
    "# Create a string IO object to capture logs\n",
    "log_stream = io.StringIO()\n",
    "# Create a handler that writes to the StringIO object\n",
    "stream_handler = logging.StreamHandler(log_stream)\n",
    "stream_handler.setLevel(logging.DEBUG)  # Capture all messages\n",
    "# Format the log messages\n",
    "formatter = logging.Formatter('%(asctime)s - %(name)s - %(levelname)s - %(message)s')\n",
    "stream_handler.setFormatter(formatter)\n",
    "\n",
    "# Get the pyrpl logger and add our handler\n",
    "logging.basicConfig(level=logging.DEBUG)\n",
    "logger = logging.getLogger('pyrpl')\n",
    "logger.addHandler(stream_handler)\n",
    "\n",
    "# Define hostname\n",
    "HOSTNAME = \"10.203.129.28\"\n",
    "\n",
    "p = pyrpl.Pyrpl(config=\"\",  # do not use a config file\n",
    "                hostname=HOSTNAME,\n",
    "                reloadfpga=True,\n",
    "                reloadserver=True)\n",
    "rp = p.redpitaya  # shortcut for the the redpitaya handler\n",
    "\n",
    "# Now you can retrieve the log contents at any time\n",
    "def show_logs():\n",
    "    return log_stream.getvalue()\n"
   ],
   "id": "c141f789cda703e5",
   "outputs": [
    {
     "name": "stderr",
     "output_type": "stream",
     "text": [
      "INFO:pyrpl.redpitaya:Successfully connected to Redpitaya with hostname 10.203.129.28.\n"
     ]
    }
   ],
   "execution_count": 1
  },
  {
   "metadata": {
    "ExecuteTime": {
     "end_time": "2025-03-24T10:27:51.124175Z",
     "start_time": "2025-03-24T10:27:51.110922Z"
    }
   },
   "cell_type": "code",
   "source": "rp.ams.pwm2_freq_div = 3600",
   "id": "cdb00b58dace2458",
   "outputs": [],
   "execution_count": 2
  },
  {
   "metadata": {
    "ExecuteTime": {
     "end_time": "2025-03-18T13:20:55.758637Z",
     "start_time": "2025-03-18T13:20:55.749618Z"
    }
   },
   "cell_type": "code",
   "source": "30*16*2",
   "id": "6b8b4622436c1b99",
   "outputs": [
    {
     "data": {
      "text/plain": [
       "960"
      ]
     },
     "execution_count": 33,
     "metadata": {},
     "output_type": "execute_result"
    }
   ],
   "execution_count": 33
  },
  {
   "metadata": {
    "ExecuteTime": {
     "end_time": "2025-03-18T14:24:56.874951Z",
     "start_time": "2025-03-18T14:24:56.865129Z"
    }
   },
   "cell_type": "code",
   "source": "2*16*30",
   "id": "b896c1d0388dd54f",
   "outputs": [
    {
     "data": {
      "text/plain": [
       "960"
      ]
     },
     "execution_count": 5,
     "metadata": {},
     "output_type": "execute_result"
    }
   ],
   "execution_count": 5
  },
  {
   "metadata": {
    "ExecuteTime": {
     "end_time": "2025-03-24T10:34:23.550104Z",
     "start_time": "2025-03-24T10:34:23.530795Z"
    }
   },
   "cell_type": "code",
   "source": [
    "rp.ams.set_pwm_frequency(2,5000)\n",
    "rp.ams.set_pwm_mode(2, \"normal\")\n",
    "\n",
    "rp.ams.dac2 = 1.7"
   ],
   "id": "38b663f95aafa2be",
   "outputs": [],
   "execution_count": 16
  },
  {
   "metadata": {
    "ExecuteTime": {
     "end_time": "2025-03-18T14:29:00.094794Z",
     "start_time": "2025-03-18T14:29:00.084781Z"
    }
   },
   "cell_type": "code",
   "source": "rp.ams.dac2 = 0.9",
   "id": "87e27123c3f2e2da",
   "outputs": [],
   "execution_count": 2
  },
  {
   "metadata": {
    "ExecuteTime": {
     "end_time": "2025-03-18T12:59:59.727279Z",
     "start_time": "2025-03-18T12:59:59.706243Z"
    }
   },
   "cell_type": "code",
   "source": "rp.ams.dac2",
   "id": "6f68843e86359338",
   "outputs": [
    {
     "data": {
      "text/plain": [
       "0.0"
      ]
     },
     "execution_count": 14,
     "metadata": {},
     "output_type": "execute_result"
    }
   ],
   "execution_count": 14
  },
  {
   "metadata": {
    "ExecuteTime": {
     "end_time": "2025-03-18T12:19:11.292682Z",
     "start_time": "2025-03-18T12:19:11.282662Z"
    }
   },
   "cell_type": "code",
   "source": "show_logs()",
   "id": "6a4336dfeaea6787",
   "outputs": [
    {
     "data": {
      "text/plain": [
       "'2025-03-18 13:17:42,558 - pyrpl.redpitaya - INFO - Successfully connected to Redpitaya with hostname 10.203.129.28.\\n'"
      ]
     },
     "execution_count": 15,
     "metadata": {},
     "output_type": "execute_result"
    }
   ],
   "execution_count": 15
  },
  {
   "metadata": {
    "ExecuteTime": {
     "end_time": "2025-03-07T17:32:34.158125Z",
     "start_time": "2025-03-07T17:32:30.795111Z"
    }
   },
   "cell_type": "code",
   "source": [
    "import pyrpl\n",
    "\n",
    "#define hostname\n",
    "HOSTNAME = \"10.203.129.28\"\n",
    "\n",
    "p = pyrpl.Pyrpl(config=\"\",  # do not use a config file\n",
    "                hostname=HOSTNAME)\n",
    "rp = p.redpitaya  # shortcut for the the redpitaya handler"
   ],
   "id": "21d5f9d5063a45f0",
   "outputs": [
    {
     "name": "stderr",
     "output_type": "stream",
     "text": [
      "INFO:pyrpl.redpitaya:Successfully connected to Redpitaya with hostname 10.203.129.28.\n"
     ]
    }
   ],
   "execution_count": 4
  },
  {
   "metadata": {
    "ExecuteTime": {
     "end_time": "2025-01-28T12:43:35.226753Z",
     "start_time": "2025-01-28T12:43:35.211714Z"
    }
   },
   "cell_type": "code",
   "source": [
    "iq = p.rp.iq2\n",
    "print('Retrieved iq module \"%s\"' % iq.name)\n",
    "\n",
    "# setup the iq module iq2 so that both demodulation quadratures are visible on the scope\n",
    "iq.setup(input='in1',\n",
    "         amplitude=0.2,\n",
    "         output_direct='off',\n",
    "         output_signal='quadrature',\n",
    "         bandwidth=[150],\n",
    "         gain=0.0,\n",
    "         quadrature_factor=10,\n",
    "         frequency=5e3, # set the frequency to half the demodulation\n",
    "         phase=0, #tune the phase as necessary\n",
    "         modulation_at_2f='off',\n",
    "         demodulation_at_2f='off',\n",
    "         acbandwidth=1000)\n",
    "\n",
    "# now you can view the measurement on the scope"
   ],
   "id": "474e293fe86d4e38",
   "outputs": [
    {
     "name": "stdout",
     "output_type": "stream",
     "text": [
      "Retrieved iq module \"iq2\"\n"
     ]
    }
   ],
   "execution_count": 2
  },
  {
   "metadata": {},
   "cell_type": "code",
   "outputs": [],
   "execution_count": null,
   "source": "",
   "id": "eca4fc2edb69c280"
  },
  {
   "metadata": {
    "ExecuteTime": {
     "end_time": "2025-01-23T21:00:25.169667Z",
     "start_time": "2025-01-23T21:00:25.160667Z"
    }
   },
   "cell_type": "code",
   "source": [
    "import os\n",
    "import pickle as file_backend  # Or import json as file_backend if you used JSON\n",
    "import numpy as np\n",
    "import pandas as pd\n",
    "import matplotlib.pyplot as plt\n",
    "import matplotlib\n",
    "matplotlib.use(\"Qt5Agg\")\n",
    "\n",
    "# 1. Define the user_curve_dir (same as in your curvedb.py)\n",
    "user_curve_dir = os.path.expanduser('~\\pyrpl_user_dir\\curve')  # Default location, adjust if needed\n",
    "file_extension = '.dat'\n",
    "\n",
    "# 2. Function to load the curve\n",
    "def load_curve(pk, curve_dir=user_curve_dir, ext=file_extension):\n",
    "    \"\"\"Loads a curve from the specified directory based on its primary key (pk).\"\"\"\n",
    "    filename = os.path.join(curve_dir, str(pk) + ext)\n",
    "    try:\n",
    "        with open(filename, 'rb' if file_backend.__name__ == 'pickle' else 'r') as f:\n",
    "            _pk, params, data = file_backend.load(f)\n",
    "            x, y = tuple([np.asarray(a) for a in data])\n",
    "            return x, y, params\n",
    "    except FileNotFoundError:\n",
    "        print(f\"Error: Curve with pk={pk} not found in {curve_dir}\")\n",
    "        return None, None, None\n",
    "\n",
    "# 3. Find the pk of the curve you want to load\n",
    "#    - Option A: If you know the pk from when you saved it:\n",
    "pk_to_load = 17  # Replace with the actual pk\n",
    "\n",
    "#    - Option B: List available curves and choose:\n",
    "#    print(\"Available curves:\")\n",
    "#    for filename in os.listdir(user_curve_dir):\n",
    "#        if filename.endswith(file_extension):\n",
    "#            pk = int(filename.split(file_extension)[0])\n",
    "#            print(f\"  - pk: {pk}\")\n",
    "#    pk_to_load = int(input(\"Enter the pk of the curve to load: \"))\n",
    "\n",
    "# 4. Load the curve\n",
    "x, y, params = load_curve(pk_to_load)\n",
    "\n",
    "# 5. Handle potential errors\n",
    "if x is None:  # Check if loading failed\n",
    "    print(\"Could not load the curve.\")\n",
    "else:\n",
    "    # 6. Display the loaded data and parameters\n",
    "    print(\"Loaded curve parameters:\")\n",
    "    for key, value in params.items():\n",
    "        print(f\"  {key}: {value}\")\n",
    "\n",
    "    # 7. Plot the curve\n",
    "    plt.figure()\n",
    "    plt.plot(x, y)\n",
    "    plt.xlabel(\"Time [s]\")  # Customize based on your data\n",
    "    plt.ylabel(\"Voltage [V]\")\n",
    "    plt.title(f\"Curve: {params.get('name', 'Unnamed Curve')}\")\n",
    "    plt.grid(True)\n",
    "    plt.show()\n",
    "\n",
    "    # 8. (Optional) Create a Pandas Series for analysis\n",
    "    curve_series = pd.Series(y, index=x)\n",
    "    print(\"\\nCurve data as Pandas Series:\")\n",
    "    print(curve_series)"
   ],
   "id": "1646e22f1f6198a5",
   "outputs": [
    {
     "name": "stdout",
     "output_type": "stream",
     "text": [
      "Error: Curve with pk=17 not found in C:\\Users\\aj92uwef\\pyrpl_user_dir\\curve\n",
      "Could not load the curve.\n"
     ]
    }
   ],
   "execution_count": 6
  },
  {
   "metadata": {
    "ExecuteTime": {
     "end_time": "2025-01-23T08:31:34.499421Z",
     "start_time": "2025-01-23T08:31:34.474106Z"
    }
   },
   "cell_type": "code",
   "source": "p.rp.scope.save_curve()",
   "id": "f100d545320d4c2a",
   "outputs": [
    {
     "data": {
      "text/plain": [
       "[<pyrpl.curvedb.CurveDB at 0x1f890c46770>, None]"
      ]
     },
     "execution_count": 21,
     "metadata": {},
     "output_type": "execute_result"
    }
   ],
   "execution_count": 21
  },
  {
   "metadata": {
    "ExecuteTime": {
     "end_time": "2025-01-20T15:26:42.588872Z",
     "start_time": "2025-01-20T15:26:42.570793Z"
    }
   },
   "cell_type": "code",
   "source": "asg0 = p.rp.asg0",
   "id": "d6cc6c00bf95bcd4",
   "outputs": [],
   "execution_count": 3
  },
  {
   "metadata": {
    "ExecuteTime": {
     "end_time": "2025-01-20T15:26:43.055219Z",
     "start_time": "2025-01-20T15:26:43.039107Z"
    }
   },
   "cell_type": "code",
   "source": "iq.acbandwidth",
   "id": "c7cd8446759ee3d7",
   "outputs": [
    {
     "data": {
      "text/plain": [
       "np.float64(1214.2929101024397)"
      ]
     },
     "execution_count": 4,
     "metadata": {},
     "output_type": "execute_result"
    }
   ],
   "execution_count": 4
  },
  {
   "metadata": {
    "ExecuteTime": {
     "end_time": "2025-01-20T08:53:12.561244100Z",
     "start_time": "2025-01-16T15:32:23.851062Z"
    }
   },
   "cell_type": "code",
   "source": [
    "\n",
    "asg0.amplitude = 0.5"
   ],
   "id": "f75b02ff2d8267d",
   "outputs": [],
   "execution_count": 6
  },
  {
   "metadata": {
    "ExecuteTime": {
     "end_time": "2025-01-20T08:53:12.567096300Z",
     "start_time": "2025-01-16T15:32:24.331580Z"
    }
   },
   "cell_type": "code",
   "source": "asg0.amplitude",
   "id": "b4df97fd3e191bad",
   "outputs": [
    {
     "data": {
      "text/plain": [
       "0.199951171875"
      ]
     },
     "execution_count": 7,
     "metadata": {},
     "output_type": "execute_result"
    }
   ],
   "execution_count": 7
  },
  {
   "metadata": {
    "ExecuteTime": {
     "end_time": "2025-01-20T08:53:12.570097300Z",
     "start_time": "2025-01-16T15:32:25.233281Z"
    }
   },
   "cell_type": "code",
   "source": [
    "asg0.output_direct = \"out1\"\n",
    "asg0.trigger_source = \"immediately\""
   ],
   "id": "7f0e245a33294a6",
   "outputs": [],
   "execution_count": 8
  },
  {
   "metadata": {
    "ExecuteTime": {
     "end_time": "2025-01-20T08:53:12.573609Z",
     "start_time": "2025-01-16T12:26:48.496907Z"
    }
   },
   "cell_type": "code",
   "source": "iq.output_signal=\"quadrature\"",
   "id": "de4b55bb7de9fe65",
   "outputs": [],
   "execution_count": 6
  },
  {
   "metadata": {
    "ExecuteTime": {
     "end_time": "2025-01-20T08:53:12.577795Z",
     "start_time": "2025-01-13T15:14:07.874393Z"
    }
   },
   "cell_type": "code",
   "source": "dir(iq)",
   "id": "86867d342733c081",
   "outputs": [
    {
     "data": {
      "text/plain": [
       "['_GAINBITS',\n",
       " '_LPFBITS',\n",
       " '_LUTBITS',\n",
       " '_LUTSZ',\n",
       " '_PHASEBITS',\n",
       " '_SHIFTBITS',\n",
       " '_SIGNALBITS',\n",
       " '__class__',\n",
       " '__delattr__',\n",
       " '__dict__',\n",
       " '__dir__',\n",
       " '__doc__',\n",
       " '__enter__',\n",
       " '__eq__',\n",
       " '__exit__',\n",
       " '__format__',\n",
       " '__ge__',\n",
       " '__getattribute__',\n",
       " '__gt__',\n",
       " '__hash__',\n",
       " '__init__',\n",
       " '__init_subclass__',\n",
       " '__le__',\n",
       " '__lt__',\n",
       " '__module__',\n",
       " '__ne__',\n",
       " '__new__',\n",
       " '__reduce__',\n",
       " '__reduce_ex__',\n",
       " '__repr__',\n",
       " '__setattr__',\n",
       " '__sizeof__',\n",
       " '__str__',\n",
       " '__subclasshook__',\n",
       " '__weakref__',\n",
       " '_acbandwidth_widget',\n",
       " '_addr_base',\n",
       " '_amplitude_widget',\n",
       " '_autosave_active',\n",
       " '_bandwidth_filterstages',\n",
       " '_bandwidth_minbw',\n",
       " '_bandwidth_shiftbits',\n",
       " '_bandwidth_widget',\n",
       " '_clear',\n",
       " '_client',\n",
       " '_create_widget',\n",
       " '_delay',\n",
       " '_demodulation_at_2f',\n",
       " '_demodulation_at_2f_lastoptions',\n",
       " '_demodulation_at_2f_options',\n",
       " '_demodulation_at_2f_widget',\n",
       " '_demodulation_cos_at_2f',\n",
       " '_demodulation_sin_at_2f',\n",
       " '_flag_autosave_active',\n",
       " '_frequency_correction',\n",
       " '_frequency_widget',\n",
       " '_from_pyint',\n",
       " '_g1',\n",
       " '_g2',\n",
       " '_g3',\n",
       " '_g4',\n",
       " '_gain_widget',\n",
       " '_gui_attributes',\n",
       " '_init_module',\n",
       " '_input',\n",
       " '_input_lastoptions',\n",
       " '_input_options',\n",
       " '_input_widget',\n",
       " '_inputfilter_filterstages',\n",
       " '_inputfilter_minbw',\n",
       " '_inputfilter_shiftbits',\n",
       " '_load_setup_attributes',\n",
       " '_logger',\n",
       " '_modulation_at_2f',\n",
       " '_modulation_at_2f_lastoptions',\n",
       " '_modulation_at_2f_options',\n",
       " '_modulation_at_2f_widget',\n",
       " '_modulation_cos_at_2f',\n",
       " '_modulation_sin_at_2f',\n",
       " '_module_attributes',\n",
       " '_module_widget',\n",
       " '_modules',\n",
       " '_na_averages',\n",
       " '_na_sleepcycles',\n",
       " '_nadata',\n",
       " '_nadata_total',\n",
       " '_number',\n",
       " '_output_direct',\n",
       " '_output_direct_lastoptions',\n",
       " '_output_direct_options',\n",
       " '_output_direct_widget',\n",
       " '_output_signal',\n",
       " '_output_signal_lastoptions',\n",
       " '_output_signal_options',\n",
       " '_output_signal_widget',\n",
       " '_output_signals',\n",
       " '_owner',\n",
       " '_ownership_changed',\n",
       " '_paused',\n",
       " '_phase_widget',\n",
       " '_quadrature_factor_widget',\n",
       " '_read',\n",
       " '_reads',\n",
       " '_rp',\n",
       " '_save_curve',\n",
       " '_setup',\n",
       " '_setup_attributes',\n",
       " '_setup_ongoing',\n",
       " '_signal_launcher',\n",
       " '_states',\n",
       " '_sync',\n",
       " '_synchronize',\n",
       " '_to_pyint',\n",
       " '_valid_bandwidths',\n",
       " '_widget_class',\n",
       " '_write',\n",
       " '_writes',\n",
       " 'acbandwidth',\n",
       " 'acbandwidths',\n",
       " 'addr_base',\n",
       " 'amplitude',\n",
       " 'bandwidth',\n",
       " 'bandwidth_options',\n",
       " 'bandwidths',\n",
       " 'c',\n",
       " 'current_output_signal',\n",
       " 'demodulation_at_2f',\n",
       " 'demodulation_at_2f_options',\n",
       " 'do_setup',\n",
       " 'erase_state',\n",
       " 'free',\n",
       " 'frequency',\n",
       " 'gain',\n",
       " 'generic_name',\n",
       " 'get_setup_attributes',\n",
       " 'get_yml',\n",
       " 'help',\n",
       " 'input',\n",
       " 'input_options',\n",
       " 'inputfilter',\n",
       " 'inputfilter_options',\n",
       " 'inputs',\n",
       " 'load_state',\n",
       " 'modulation_at_2f',\n",
       " 'modulation_at_2f_options',\n",
       " 'na_trace',\n",
       " 'name',\n",
       " 'on',\n",
       " 'out1_saturated',\n",
       " 'out2_saturated',\n",
       " 'output_direct',\n",
       " 'output_direct_options',\n",
       " 'output_directs',\n",
       " 'output_signal',\n",
       " 'output_signal_options',\n",
       " 'output_signals',\n",
       " 'owner',\n",
       " 'parent',\n",
       " 'pfd_integral',\n",
       " 'pfd_on',\n",
       " 'phase',\n",
       " 'pyrpl',\n",
       " 'quadrature_factor',\n",
       " 'save_state',\n",
       " 'set_setup_attributes',\n",
       " 'set_yml',\n",
       " 'setup',\n",
       " 'setup_attributes',\n",
       " 'signal',\n",
       " 'states',\n",
       " 'synchronize_iqs',\n",
       " 'transfer_function']"
      ]
     },
     "execution_count": 12,
     "metadata": {},
     "output_type": "execute_result"
    }
   ],
   "execution_count": 12
  },
  {
   "metadata": {},
   "cell_type": "code",
   "outputs": [],
   "execution_count": null,
   "source": "",
   "id": "60183e6e7f7bf99f"
  }
 ],
 "metadata": {
  "kernelspec": {
   "display_name": "Python 3",
   "language": "python",
   "name": "python3"
  },
  "language_info": {
   "codemirror_mode": {
    "name": "ipython",
    "version": 2
   },
   "file_extension": ".py",
   "mimetype": "text/x-python",
   "name": "python",
   "nbconvert_exporter": "python",
   "pygments_lexer": "ipython2",
   "version": "2.7.6"
  }
 },
 "nbformat": 4,
 "nbformat_minor": 5
}
